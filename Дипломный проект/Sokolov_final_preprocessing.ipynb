{
 "cells": [
  {
   "cell_type": "code",
   "execution_count": null,
   "metadata": {},
   "outputs": [],
   "source": [
    "# переводим все в нижний регистр, оставляем только цифры в одном формате, удаляем лишние пробелы\n",
    "# удалить дубликаты \n",
    "\n",
    "# status - пустые значения 39918, выбираем top остальное - other?\n",
    "# propertyType - пустые значения 34733, есть значения из колонки stories - переместить, пустоты заполнить типом по sqft.\n",
    "# fireplace - 2/3 пустых значений (возможно заменить на no) - +\n",
    "# baths - пустые значения 106338, значения вида \"1 / 1-0 / 1-0 / 1-0\" - просто сосчитать\n",
    "# zipcode - индекс, есть \"--\"? - +\n",
    "# street - пустые значения 2 - удалить, постараться привести к общему виду, попробовать получить координаты по адресу\n",
    "# city - пустые значения 34 - удалить или получить по zipcode\n",
    "# sqft - пустые значения 40577, есть нулевые значения и прочерки - присвоить -999 - +\n",
    "# beds - пустые значения 91282, примешаны площадь в футах и акрах,  \n",
    "# заполнить Nan -999\n",
    "# stories - пустые значения 150715\n",
    "# target - есть пустые значения - заполнить если есть sqft и Price/sqft, удалить\n",
    "# mls_Id - возможно удалить? попробовать найти информацию\n",
    "# Year built - пустые значения 62374\n",
    "# Remodeled year - пустые значения 151075, заполнить как Year built\n",
    "# Heating - пустые значения 109332, 1983 уникальных значений, выбираем top остальное - other\n",
    "# Cooling - пустые значения 123967, 1444 уникальных значений, выбираем top остальное - other\n",
    "# Parking - пустые значения 175420, 3345 уникальных значений, выбираем top остальное - other\n",
    "# lotsize (земельный участок) - пустые значения 61455, разные единицы измерения: sqft, acres, есть прочерки всместо значений\n",
    "# Price/sqft - пустые значения 63738, использовать как целевую переменную, пропуски заполнить\n",
    "# на основе sqft и target\n",
    "\n",
    "# schools - посчитать общее количество школ, посчитать количество школ с разбивкой по \n",
    "# (начальная, средняя, частная и тд), посчитать средний рейтинг школы, или с разбивкой, посчитать среднее растояние до школы,\n",
    "# или определить наличие школы (начальная, средняя, частная и тд) (1, 0) \n",
    "\n",
    "# получить координаты почтовых отделений\n",
    "# и координатами центра городов (датасеты US.txt, worldsitiespop.csv), использовать inner join\n",
    "# сосчитать растояние и азимут от почтовых отделений до центра"
   ]
  },
  {
   "cell_type": "code",
   "execution_count": 2,
   "metadata": {},
   "outputs": [],
   "source": [
    "from itertools import cycle, islice\n",
    "\n",
    "from tqdm import *\n",
    "from ast import literal_eval\n",
    "import json\n",
    "import re\n",
    "\n",
    "import numpy as np\n",
    "import pandas as pd\n",
    "import matplotlib.pyplot as plt\n",
    "import seaborn as sns\n",
    "import matplotlib.mlab as mlab\n",
    "import matplotlib\n",
    "from matplotlib.pyplot import figure\n",
    "%matplotlib inline\n"
   ]
  },
  {
   "cell_type": "code",
   "execution_count": 3,
   "metadata": {},
   "outputs": [
    {
     "data": {
      "text/plain": [
       "(377185, 18)"
      ]
     },
     "execution_count": 3,
     "metadata": {},
     "output_type": "execute_result"
    }
   ],
   "source": [
    "dataset = pd.read_csv('D:\\\\SF\\\\Final\\\\data.csv')\n",
    "dataset.shape"
   ]
  },
  {
   "cell_type": "code",
   "execution_count": 5,
   "metadata": {},
   "outputs": [
    {
     "data": {
      "text/html": [
       "<div>\n",
       "<style scoped>\n",
       "    .dataframe tbody tr th:only-of-type {\n",
       "        vertical-align: middle;\n",
       "    }\n",
       "\n",
       "    .dataframe tbody tr th {\n",
       "        vertical-align: top;\n",
       "    }\n",
       "\n",
       "    .dataframe thead th {\n",
       "        text-align: right;\n",
       "    }\n",
       "</style>\n",
       "<table border=\"1\" class=\"dataframe\">\n",
       "  <thead>\n",
       "    <tr style=\"text-align: right;\">\n",
       "      <th></th>\n",
       "      <th>count</th>\n",
       "      <th>unique</th>\n",
       "      <th>top</th>\n",
       "      <th>freq</th>\n",
       "    </tr>\n",
       "  </thead>\n",
       "  <tbody>\n",
       "    <tr>\n",
       "      <th>status</th>\n",
       "      <td>337267</td>\n",
       "      <td>159</td>\n",
       "      <td>for sale</td>\n",
       "      <td>156104</td>\n",
       "    </tr>\n",
       "    <tr>\n",
       "      <th>private pool</th>\n",
       "      <td>4181</td>\n",
       "      <td>1</td>\n",
       "      <td>Yes</td>\n",
       "      <td>4181</td>\n",
       "    </tr>\n",
       "    <tr>\n",
       "      <th>propertyType</th>\n",
       "      <td>342452</td>\n",
       "      <td>1280</td>\n",
       "      <td>single-family home</td>\n",
       "      <td>92206</td>\n",
       "    </tr>\n",
       "    <tr>\n",
       "      <th>street</th>\n",
       "      <td>377183</td>\n",
       "      <td>337076</td>\n",
       "      <td>Address Not Disclosed</td>\n",
       "      <td>672</td>\n",
       "    </tr>\n",
       "    <tr>\n",
       "      <th>baths</th>\n",
       "      <td>270847</td>\n",
       "      <td>229</td>\n",
       "      <td>2 Baths</td>\n",
       "      <td>52466</td>\n",
       "    </tr>\n",
       "    <tr>\n",
       "      <th>homeFacts</th>\n",
       "      <td>377185</td>\n",
       "      <td>321009</td>\n",
       "      <td>{'atAGlanceFacts': [{'factValue': '', 'factLab...</td>\n",
       "      <td>7174</td>\n",
       "    </tr>\n",
       "    <tr>\n",
       "      <th>fireplace</th>\n",
       "      <td>103115</td>\n",
       "      <td>1653</td>\n",
       "      <td>yes</td>\n",
       "      <td>50356</td>\n",
       "    </tr>\n",
       "    <tr>\n",
       "      <th>city</th>\n",
       "      <td>377151</td>\n",
       "      <td>2026</td>\n",
       "      <td>Houston</td>\n",
       "      <td>24442</td>\n",
       "    </tr>\n",
       "    <tr>\n",
       "      <th>schools</th>\n",
       "      <td>377185</td>\n",
       "      <td>297365</td>\n",
       "      <td>[{'rating': [], 'data': {'Distance': [], 'Grad...</td>\n",
       "      <td>4204</td>\n",
       "    </tr>\n",
       "    <tr>\n",
       "      <th>sqft</th>\n",
       "      <td>336608</td>\n",
       "      <td>25405</td>\n",
       "      <td>0</td>\n",
       "      <td>11854</td>\n",
       "    </tr>\n",
       "    <tr>\n",
       "      <th>zipcode</th>\n",
       "      <td>377185</td>\n",
       "      <td>4549</td>\n",
       "      <td>32137</td>\n",
       "      <td>2141</td>\n",
       "    </tr>\n",
       "    <tr>\n",
       "      <th>beds</th>\n",
       "      <td>285903</td>\n",
       "      <td>1184</td>\n",
       "      <td>3 Beds</td>\n",
       "      <td>53459</td>\n",
       "    </tr>\n",
       "    <tr>\n",
       "      <th>state</th>\n",
       "      <td>377185</td>\n",
       "      <td>39</td>\n",
       "      <td>FL</td>\n",
       "      <td>115449</td>\n",
       "    </tr>\n",
       "    <tr>\n",
       "      <th>stories</th>\n",
       "      <td>226470</td>\n",
       "      <td>348</td>\n",
       "      <td>1.0</td>\n",
       "      <td>67454</td>\n",
       "    </tr>\n",
       "    <tr>\n",
       "      <th>mls-id</th>\n",
       "      <td>24942</td>\n",
       "      <td>24907</td>\n",
       "      <td>No MLS#</td>\n",
       "      <td>3</td>\n",
       "    </tr>\n",
       "    <tr>\n",
       "      <th>PrivatePool</th>\n",
       "      <td>40311</td>\n",
       "      <td>2</td>\n",
       "      <td>yes</td>\n",
       "      <td>28793</td>\n",
       "    </tr>\n",
       "    <tr>\n",
       "      <th>MlsId</th>\n",
       "      <td>310305</td>\n",
       "      <td>232944</td>\n",
       "      <td>NO MLS</td>\n",
       "      <td>24</td>\n",
       "    </tr>\n",
       "    <tr>\n",
       "      <th>target</th>\n",
       "      <td>374704</td>\n",
       "      <td>43939</td>\n",
       "      <td>$225,000</td>\n",
       "      <td>1462</td>\n",
       "    </tr>\n",
       "  </tbody>\n",
       "</table>\n",
       "</div>"
      ],
      "text/plain": [
       "               count  unique  \\\n",
       "status        337267     159   \n",
       "private pool    4181       1   \n",
       "propertyType  342452    1280   \n",
       "street        377183  337076   \n",
       "baths         270847     229   \n",
       "homeFacts     377185  321009   \n",
       "fireplace     103115    1653   \n",
       "city          377151    2026   \n",
       "schools       377185  297365   \n",
       "sqft          336608   25405   \n",
       "zipcode       377185    4549   \n",
       "beds          285903    1184   \n",
       "state         377185      39   \n",
       "stories       226470     348   \n",
       "mls-id         24942   24907   \n",
       "PrivatePool    40311       2   \n",
       "MlsId         310305  232944   \n",
       "target        374704   43939   \n",
       "\n",
       "                                                            top    freq  \n",
       "status                                                 for sale  156104  \n",
       "private pool                                                Yes    4181  \n",
       "propertyType                                 single-family home   92206  \n",
       "street                                    Address Not Disclosed     672  \n",
       "baths                                                   2 Baths   52466  \n",
       "homeFacts     {'atAGlanceFacts': [{'factValue': '', 'factLab...    7174  \n",
       "fireplace                                                   yes   50356  \n",
       "city                                                    Houston   24442  \n",
       "schools       [{'rating': [], 'data': {'Distance': [], 'Grad...    4204  \n",
       "sqft                                                          0   11854  \n",
       "zipcode                                                   32137    2141  \n",
       "beds                                                     3 Beds   53459  \n",
       "state                                                        FL  115449  \n",
       "stories                                                     1.0   67454  \n",
       "mls-id                                                  No MLS#       3  \n",
       "PrivatePool                                                 yes   28793  \n",
       "MlsId                                                    NO MLS      24  \n",
       "target                                                 $225,000    1462  "
      ]
     },
     "execution_count": 5,
     "metadata": {},
     "output_type": "execute_result"
    }
   ],
   "source": [
    "dataset.describe().T"
   ]
  },
  {
   "cell_type": "code",
   "execution_count": 6,
   "metadata": {},
   "outputs": [
    {
     "name": "stdout",
     "output_type": "stream",
     "text": [
      "<class 'pandas.core.frame.DataFrame'>\n",
      "RangeIndex: 377185 entries, 0 to 377184\n",
      "Data columns (total 18 columns):\n",
      " #   Column        Non-Null Count   Dtype \n",
      "---  ------        --------------   ----- \n",
      " 0   status        337267 non-null  object\n",
      " 1   private pool  4181 non-null    object\n",
      " 2   propertyType  342452 non-null  object\n",
      " 3   street        377183 non-null  object\n",
      " 4   baths         270847 non-null  object\n",
      " 5   homeFacts     377185 non-null  object\n",
      " 6   fireplace     103115 non-null  object\n",
      " 7   city          377151 non-null  object\n",
      " 8   schools       377185 non-null  object\n",
      " 9   sqft          336608 non-null  object\n",
      " 10  zipcode       377185 non-null  object\n",
      " 11  beds          285903 non-null  object\n",
      " 12  state         377185 non-null  object\n",
      " 13  stories       226470 non-null  object\n",
      " 14  mls-id        24942 non-null   object\n",
      " 15  PrivatePool   40311 non-null   object\n",
      " 16  MlsId         310305 non-null  object\n",
      " 17  target        374704 non-null  object\n",
      "dtypes: object(18)\n",
      "memory usage: 51.8+ MB\n"
     ]
    }
   ],
   "source": [
    "dataset.info()"
   ]
  },
  {
   "cell_type": "code",
   "execution_count": 269,
   "metadata": {},
   "outputs": [
    {
     "data": {
      "text/plain": [
       "<matplotlib.axes._subplots.AxesSubplot at 0x29c370c2390>"
      ]
     },
     "execution_count": 269,
     "metadata": {},
     "output_type": "execute_result"
    },
    {
     "data": {
      "image/png": "[encoded data removed]",
      "text/plain": [
       "<Figure size 1152x576 with 2 Axes>"
      ]
     },
     "metadata": {},
     "output_type": "display_data"
    }
   ],
   "source": [
    "# Карта пропущенных значений\n",
    "plt.style.use('ggplot')\n",
    "plt.title('Пропущенные данные')\n",
    "matplotlib.rcParams['figure.figsize'] = (20,10)\n",
    "\n",
    "pd.options.mode.chained_assignment = None\n",
    "\n",
    "cols = df.columns\n",
    "# определяем цвета \n",
    "# желтый - пропущенные данные, синий - не пропущенные\n",
    "colours = ['#000099', '#ffff00'] \n",
    "sns.heatmap(df[cols].isnull(), cmap=sns.color_palette(colours))"
   ]
  },
  {
   "cell_type": "code",
   "execution_count": 271,
   "metadata": {},
   "outputs": [
    {
     "name": "stdout",
     "output_type": "stream",
     "text": [
      "status - 10.583%\n",
      "private pool - 98.892%\n",
      "propertyType - 9.208%\n",
      "street - 0.001%\n",
      "baths - 28.193%\n",
      "homeFacts - 0.0%\n",
      "fireplace - 72.662%\n",
      "city - 0.009%\n",
      "schools - 0.0%\n",
      "sqft - 10.758%\n",
      "zipcode - 0.0%\n",
      "beds - 24.201%\n",
      "state - 0.0%\n",
      "stories - 39.958%\n",
      "mls-id - 93.387%\n",
      "PrivatePool - 89.313%\n",
      "MlsId - 17.731%\n",
      "target - 0.658%\n"
     ]
    }
   ],
   "source": [
    "# Процентный список пропущенных данных\n",
    "for col in df.columns:\n",
    "    pct_missing = np.mean(df[col].isnull())\n",
    "    print('{} - {}%'.format(col, round(pct_missing*100, 3)))"
   ]
  },
  {
   "cell_type": "code",
   "execution_count": null,
   "metadata": {},
   "outputs": [],
   "source": [
    "# Гистограмма пропущенных данных показывает количество строк с пропущенными данными\n",
    "# сначала создаем индикатор для признаков с пропущенными данными\n",
    "data_for_hist = data.copy()\n",
    "for col in data_for_hist.columns:\n",
    "    missing = data_for_hist[col].isnull()\n",
    "    num_missing = np.sum(missing)\n",
    "    \n",
    "    if num_missing > 0:  \n",
    "        print('created missing indicator for: {}'.format(col))\n",
    "        data_for_hist['{}_ismissing'.format(col)] = missing\n",
    "\n",
    "\n",
    "# затем на основе индикатора строим гистограмму\n",
    "ismissing_cols = [col for col in data_for_hist.columns if 'ismissing' in col]\n",
    "data_for_hist['num_missing'] = data_for_hist[ismissing_cols].sum(axis=1)\n",
    "\n",
    "data_for_hist['num_missing'].value_counts().reset_index().sort_values(by='index').plot.bar(x='index', y='num_missing')"
   ]
  },
  {
   "cell_type": "code",
   "execution_count": 69,
   "metadata": {},
   "outputs": [],
   "source": [
    "# функции для обработки признаков\n",
    "\n",
    "def privatePool(row):# все что не yes заменяем no\n",
    "    if type(row['private pool']) is str:\n",
    "        return row['private pool']\n",
    "    elif type(row['PrivatePool']) is str:\n",
    "        return row['PrivatePool']\n",
    "    else:\n",
    "        return 'no'\n",
    "    \n",
    "def mlsId(row):# обьединяем две колонки\n",
    "    if type(row['mls-id']) is str:\n",
    "        return row['mls-id']\n",
    "    elif type(row['MlsId']) is str:\n",
    "        return row['MlsId']\n",
    "    else:\n",
    "        return 'no mls'\n",
    "\n",
    "def mlsIdNo(cell): # приводим к общему виду\n",
    "    if cell.find('no')!=-1:\n",
    "        return 'no mls'\n",
    "    else:\n",
    "        return cell\n",
    "\n",
    "def factfeatures(row):# парсим homeFacts\n",
    "    homeFacts = literal_eval(row['homeFacts'])\n",
    "    fact_list = homeFacts['atAGlanceFacts']   \n",
    "    for fact in fact_list:\n",
    "        row[fact['factLabel']] = fact['factValue']   \n",
    "    return row\n",
    "\n",
    "def home(cell):#немного приводим к общему виду значения колонки propertyType\n",
    "    if cell.find('single family')!=-1:\n",
    "        return 'single family'\n",
    "    elif cell.find('multi family')!=-1:\n",
    "        return 'multi family'\n",
    "    else:\n",
    "        return cell\n",
    "\n",
    "def bath_count(cell):# извлекаем числовые значения из колонки, nan заполняем -1\n",
    "    if type(cell) is str:\n",
    "        cell = cell.replace(',', '.')\n",
    "        lst_bath = cell.split(' ')\n",
    "        cnt = 0\n",
    "        for item in lst_bath:\n",
    "            digit_lst = re.findall(r'\\d*\\.\\d+|\\d+', item)\n",
    "            for item2 in digit_lst:\n",
    "                cnt = cnt + int(round(float(item2)))\n",
    "        return int(cnt)\n",
    "    else:\n",
    "        return -1\n",
    "    \n",
    "def fireplace(cell):# 0 - no, nan - no data, yes\n",
    "    if type(cell) is str:\n",
    "        if (cell.find('0')!=-1) | (cell.find('not applicable')!=-1):\n",
    "            return 'no'\n",
    "        elif cell.find('no data')!=-1:\n",
    "            return cell\n",
    "        else:\n",
    "            return 'yes'\n",
    "\n",
    "# обрабатывает ячейки с числовыми значениями sqft, target, Price/sqft\n",
    "def digit(cell):\n",
    "    cell = cell.replace(',', '')\n",
    "    result = re.search(r'\\d+', cell)\n",
    "    if result is not None:\n",
    "        digit = result.group(0)\n",
    "        if int(digit)>0:\n",
    "            return int(digit)\n",
    "        else:\n",
    "            return -999\n",
    "    else:\n",
    "        return -999\n",
    "    \n",
    "# считает sqft по target и Price/sqft и заполняет недостающие\n",
    "def sqft(row):\n",
    "    if not row['sqft']>0:\n",
    "        if (row['target']>0) & (row['Price/sqft']>0):\n",
    "            sqft = int(round(row['target']/row['Price/sqft']))\n",
    "            return sqft\n",
    "        else:\n",
    "            return row['sqft']\n",
    "    else:\n",
    "        return row['sqft']\n",
    "    \n",
    "# считает target по sqft и Price/sqft и заполняет недостающие\n",
    "def target(row):\n",
    "    if not row['target']>0:\n",
    "        if (row['sqft']>0) & (row['Price/sqft']>0):\n",
    "            target = int(round(row['sqft']*row['Price/sqft']/1000)*1000)\n",
    "            return target\n",
    "        else:\n",
    "            return row['target']\n",
    "    else:\n",
    "        return row['target']\n",
    "\n",
    "# считает Price/sqft по sqft и target и заполняет недостающие\n",
    "def price_sqft(row):\n",
    "    if not row['Price/sqft']>0:\n",
    "        if (row['sqft']>0) & (row['target']>0):\n",
    "            priceSqft = int(round(row['target']/row['sqft']))\n",
    "            return priceSqft\n",
    "        else:\n",
    "            return row['Price/sqft']\n",
    "    else:\n",
    "        return row['Price/sqft']    \n",
    "    \n",
    "# заполним пропуски значениями из соседней колонки, если нет, то 0    \n",
    "def year_built(row):\n",
    "    if (row['Year built']!='') and (row['Year built']!='no data'):\n",
    "        return row['Year built']  \n",
    "    elif (row['Remodeled year']!='') and (row['Remodeled year']!='no data'):\n",
    "        return row['Remodeled year']\n",
    "    else:\n",
    "        return '0'\n",
    "    \n",
    "def rem_year(row):\n",
    "    if (row['Remodeled year']!='') and (row['Remodeled year']!='no data'):\n",
    "        return row['Remodeled year']\n",
    "    elif row['year_built']>0:\n",
    "        return row['year_built']\n",
    "    else:\n",
    "        return 0\n",
    "    \n",
    "# считаем общее количество школ в районе, средний рейтинг, среднее растояние, количество школ по градациям\n",
    "def schools(row):\n",
    "    schoolsFacts = literal_eval(row['schools'])[0]\n",
    "    ratings = schoolsFacts['rating']\n",
    "    distances = schoolsFacts['data']['Distance']\n",
    "    grades = schoolsFacts['data']['Grades']\n",
    "    names = schoolsFacts['name']\n",
    "    \n",
    "    row['school_count'] = len(names)\n",
    "    \n",
    "    if len(names)>0:\n",
    "        rat_full = 0\n",
    "        dist_full = 0\n",
    "        for rating in ratings:\n",
    "            rat_full = rat_full + int(rating)\n",
    "        row['school_rating_mean'] = round(rat_full/len(ratings), 1)\n",
    "        \n",
    "        for distance in distances:\n",
    "            dist_full = dist_full + float(distance)\n",
    "        row['school_distance_mean'] = round(dist_full/len(distances), 1)\n",
    "        \n",
    "        preschool = 0\n",
    "        kindergarten = 0\n",
    "        elementary = 0\n",
    "        middle = 0\n",
    "        high = 0\n",
    "        private = 0\n",
    "        for grade in grades:\n",
    "            grade = str(grade)\n",
    "            if grade.find('PK')!=-1:\n",
    "                preschool = preschool + 1\n",
    "            if (grade.find('K')!=-1) and (grade.find('PK')==-1):\n",
    "                kindergarten = kindergarten + 1\n",
    "            if (grade.find('-4')!=-1) or (grade.find('-5')!=-1) or (grade.find('-6')!=-1):\n",
    "                elementary = elementary + 1\n",
    "            if (grade.find('-7')!=-1) or (grade.find('-8')!=-1) or (grade.find('-9')!=-1):\n",
    "                middle = middle + 1\n",
    "            if (grade.find('-11')!=-1) or (grade.find('-12')!=-1):\n",
    "                high = high + 1\n",
    "                \n",
    "        row['preschool'] = preschool\n",
    "        row['kindergarten'] = kindergarten   \n",
    "        row['elementary_school'] = elementary\n",
    "        row['middle_school'] = middle\n",
    "        row['high_school'] = high\n",
    "        \n",
    "        for name in names:\n",
    "            if name.find('Private')!=-1:\n",
    "                private = private + 1\n",
    "        row['private_school'] = private\n",
    "        \n",
    "    else:\n",
    "        row['school_rating_mean'] = 0\n",
    "        row['school_distance_mean'] = 0\n",
    "        row['preschool'] = 0\n",
    "        row['kindergarten'] = 0 \n",
    "        row['elementary_school'] = 0\n",
    "        row['middle_school'] = 0\n",
    "        row['high_school'] = 0\n",
    "        row['private_school'] = 0\n",
    "    \n",
    "    return row\n",
    "\n",
    "def beds(row):# получаем данные о площади lotsize\n",
    "    if type(row['beds']) is str:\n",
    "        if (row['beds'].find('acres')!=-1) or (row['beds'].find('sqft')!=-1):\n",
    "            row['lotsize'] = row['beds']\n",
    "            row['beds'] = 'no data'\n",
    "    elif not row['beds']>0:\n",
    "        row['beds'] = 'no data'\n",
    "    return row\n",
    "\n",
    "def beds2(cell):# извлекаем числовые значения\n",
    "    if type(cell) is str:\n",
    "        cell = cell.replace(',', '')\n",
    "        result = re.search(r'\\d+', cell)\n",
    "        if result is not None:\n",
    "            digit = result.group(0)\n",
    "            return int(digit)\n",
    "        else:\n",
    "            return -1\n",
    "    else:\n",
    "        return -1\n",
    "    \n",
    "def lotsize(cell):# приводим к одним единицам площадь, nan - 0\n",
    "    if type(cell) is str:\n",
    "        cell = cell.replace('Sq. Ft.', 'sqft')\n",
    "        cell = cell.replace('Acres', 'acres')\n",
    "        cell = cell.replace(',', '')\n",
    "        if cell.find('acres')!=-1:\n",
    "            acres = float(cell.split(' ')[0]) # 1 acre = 43560 sqft\n",
    "            sqft = int(round(acres*43560))\n",
    "        else:\n",
    "            result = re.search(r'\\d+', cell)\n",
    "            if result is not None:\n",
    "                digit = result.group(0)\n",
    "                sqft = int(digit)\n",
    "            else:\n",
    "                sqft = 0\n",
    "        return sqft  \n",
    "    else:\n",
    "        return 0\n",
    "    \n",
    "def stories(row):# в колонке propertyType присутствуют данные stories - извлекаем\n",
    "    if type(row['stories']) is float:\n",
    "        if (row['propertyType'].find('one story')!=-1) or (row['propertyType'].find('1 story')!=-1):\n",
    "            row['stories'] = 1\n",
    "        if (row['propertyType'].find('two story')!=-1) or (row['propertyType'].find('2 story')!=-1):\n",
    "            row['stories'] = 2\n",
    "    return row\n",
    "\n",
    "def stories2(cell):# извлекаем числовые значения\n",
    "    if type(cell) is str:\n",
    "        cell = cell.lower()\n",
    "        if cell.find('one')!=-1:\n",
    "            cell = 1\n",
    "        elif cell.find('two')!=-1:\n",
    "            cell = 2\n",
    "        else:\n",
    "            result = re.search(r'\\d+', cell)\n",
    "            if result is not None:\n",
    "                digit = result.group(0)\n",
    "                cell = int(digit)\n",
    "            else:\n",
    "                cell = 0\n",
    "        return cell\n",
    "    \n",
    "def heating(cell):# приводим к общему виду некоторые значения\n",
    "    if cell.find('forced')!=-1:\n",
    "        cell = 'forced'\n",
    "    if cell.find('central')!=-1:\n",
    "        cell = 'central'\n",
    "    if cell.find('electric')!=-1:\n",
    "        cell = 'electric'\n",
    "    if cell.find('gas')!=-1:\n",
    "        cell = 'gas'\n",
    "    if cell.find('window unit')!=-1:\n",
    "        cell = 'wall/window unit'\n",
    "    return cell\n",
    "\n",
    "def cooling(cell):\n",
    "    if cell.find('ceiling fan')!=-1:\n",
    "        cell = 'ceiling fan'\n",
    "    if cell.find('central')!=-1:\n",
    "        cell = 'central'\n",
    "    if cell.find('electric')!=-1:\n",
    "        cell = 'electric'\n",
    "    if cell.find('window unit')!=-1:\n",
    "        cell = 'wall/window unit'\n",
    "    return cell\n",
    "\n",
    "def parking(cell):# разделяем все значения на yes, none, no data\n",
    "    if cell=='no data':\n",
    "        return cell\n",
    "    elif cell=='none':\n",
    "        return cell\n",
    "    else:\n",
    "        return 'yes'\n",
    "    \n"
   ]
  },
  {
   "cell_type": "code",
   "execution_count": 4,
   "metadata": {},
   "outputs": [],
   "source": [
    "# в некоторых моментах работает по 2 часа, \n",
    "# работает на florida и houston\n",
    "# на всем датасете так и не удалось завершить до конца из-за непредвиденных ошибок\n",
    "def preproc_data(df_input):\n",
    "    tqdm.pandas(tqdm_notebook)\n",
    "    data = df_input.copy()\n",
    "    # Объединяем private pool и PrivatePool\n",
    "    data['private_pool'] = data.apply(lambda x: privatePool(x), axis=1)\n",
    "    data.drop(['private pool', 'PrivatePool'], axis=1, inplace=True)\n",
    "    data['private_pool'] = data['private_pool'].apply(lambda x: x.lower())\n",
    "    # Объединяем mls-id, MlsId\n",
    "    data['mls_Id'] = data.apply(lambda x: mlsId(x), axis=1)\n",
    "    data.drop(['mls-id', 'MlsId'], axis=1, inplace=True)\n",
    "    data['mls_Id'] = data['mls_Id'].apply(lambda x: x.lower())\n",
    "    data['mls_Id'] = data['mls_Id'].apply(lambda x: mlsIdNo(x))\n",
    "    # homeFacts\n",
    "    print('homeFacts')\n",
    "    data = data.progress_apply(lambda row: factfeatures(row), axis=1)\n",
    "    data.drop('homeFacts', axis=1, inplace=True)\n",
    "    # status\n",
    "    data['status'] = data['status'].fillna('no data')\n",
    "    data['status'] = data['status'].apply(lambda x: x.lower())\n",
    "    data['status'] = data['status'].apply(lambda x: x.replace(',', ''))\n",
    "    data['status'] = data['status'].apply(lambda x: x.replace('new construction', 'new'))\n",
    "    data['status'] = data['status'].apply(lambda x: x.replace('a active', 'active'))\n",
    "    data['status'] = data['status'].apply(lambda x: x.replace(' / auction', 'auction'))\n",
    "    data['status'] = data['status'].apply(lambda x: x.replace('pre-foreclosureauction', 'pre-foreclosure auction'))\n",
    "    data['status'] = data['status'].apply(lambda x: x.replace('under contract show', 'under contract'))\n",
    "    data['status'] = data['status'].apply(lambda x: x.replace('under contract   showing', 'under contract'))\n",
    "    data['status'] = data['status'].apply(lambda x: x.replace('active - auction', 'auction - active'))\n",
    "    # city\n",
    "    data['city'] = data['city'].fillna('no data')\n",
    "    data['city'] = data['city'].apply(lambda x: x.lower())\n",
    "    # propertyType\n",
    "    data['propertyType'] = data['propertyType'].fillna('no data')\n",
    "    data['propertyType'] = data['propertyType'].apply(lambda x: x.lower())\n",
    "    data['propertyType'] = data['propertyType'].apply(lambda x: x.replace('-', ' '))\n",
    "    data['propertyType'] = data['propertyType'].apply(lambda x: x.replace(' home', ''))\n",
    "    data['propertyType'] = data['propertyType'].apply(lambda x: x.replace(' / ', '/'))\n",
    "    data['propertyType'] = data['propertyType'].apply(lambda x: home(x))\n",
    "    # baths\n",
    "    print('baths')\n",
    "    data['baths_count'] = data['baths'].progress_apply(lambda x: bath_count(x))\n",
    "    # fireplace\n",
    "    data['fireplace'] = data['fireplace'].fillna('no data')\n",
    "    data['fireplace'] = data['fireplace'].apply(lambda x: x.lower())\n",
    "    data['fireplace_yes_no'] = data['fireplace'].apply(lambda x: fireplace(x))\n",
    "    data.drop('fireplace', axis=1, inplace=True)\n",
    "    # zipcode\n",
    "    index = data[data['zipcode']=='--'].index\n",
    "    data = data.drop(index, axis=0)\n",
    "    data['zipcode'] = data['zipcode'].apply(lambda x: x.split('-')[0])\n",
    "    data['zipcode'] = data['zipcode'].astype('int32')\n",
    "    # sqft\n",
    "    print('sqft')\n",
    "    data['sqft'] = data['sqft'].fillna('no data')\n",
    "    data['sqft'] = data['sqft'].astype('str')\n",
    "    data['sqft'] = data['sqft'].apply(lambda x: digit(x))\n",
    "    # Price/sqft\n",
    "    print('Price/sqft')\n",
    "    data['Price/sqft'] = data['Price/sqft'].fillna('no data')\n",
    "    data['Price/sqft'] = data['Price/sqft'].astype('str')\n",
    "    data['Price/sqft'] = data['Price/sqft'].apply(lambda x: digit(x))\n",
    "    # target\n",
    "    print('target')\n",
    "    data['target'] = data['target'].fillna('no data')\n",
    "    data['target'] = data['target'].astype('str')\n",
    "    data['target'] = data['target'].apply(lambda x: digit(x))\n",
    "    # Price/sqft sqft target\n",
    "    data['Price/sqft'] = data.apply(lambda x: price_sqft(x), axis=1)\n",
    "    data['sqft'] = data.apply(lambda x: sqft(x), axis=1)\n",
    "    data['target'] = data.apply(lambda x: target(x), axis=1)\n",
    "    # year_built, remodeled_year\n",
    "    data['Year built'] = data['Year built'].fillna('no data')\n",
    "    data['Remodeled year'] = data['Remodeled year'].fillna('no data')\n",
    "    data['Year built'] = data['Year built'].apply(lambda x: x.lower())\n",
    "    data['Remodeled year'] = data['Remodeled year'].apply(lambda x: x.lower())\n",
    "    data['year_built'] = data.apply(lambda x: year_built(x), axis=1)\n",
    "    data['year_built'] = data['year_built'].astype('int32')\n",
    "    data['remodeled_year'] = data.apply(lambda x: rem_year(x), axis=1)\n",
    "    data['remodeled_year'] = data['remodeled_year'].astype('int32')\n",
    "    data.drop(['Year built', 'Remodeled year'], axis=1, inplace=True)\n",
    "    # schools\n",
    "    data['schools'] = data['schools'].apply(lambda x: x.replace('/10', ''))\n",
    "    data['schools'] = data['schools'].apply(lambda x: x.replace(' mi', ''))\n",
    "    data['schools'] = data['schools'].apply(lambda x: x.replace('mi', ''))\n",
    "    data['schools'] = data['schools'].apply(lambda x: x.replace('NR', '0'))\n",
    "    data['schools'] = data['schools'].apply(lambda x: x.replace('None', '0'))\n",
    "    data['schools'] = data['schools'].apply(lambda x: x.replace('NA', '0'))\n",
    "    data['schools'] = data['schools'].apply(lambda x: x.replace('Preschool', 'PK'))\n",
    "    data['schools'] = data['schools'].apply(lambda x: x.replace(' to ', '-'))\n",
    "    data['schools'] = data['schools'].apply(lambda x: x.replace('–', '-'))\n",
    "    data['schools'] = data['schools'].apply(lambda x: x.replace('N/A', '1-8')) # пусть будет начальная и средняя школы\n",
    "    print('schools')\n",
    "    data = data.progress_apply(lambda row: schools(row), axis=1)\n",
    "    data.drop('schools', axis=1, inplace=True)\n",
    "    # beds\n",
    "    print('beds')\n",
    "    data = data.progress_apply(lambda row: beds(row), axis=1)\n",
    "    data['beds'] = data['beds'].apply(lambda x: beds2(x))\n",
    "    # lotsize\n",
    "    print('lotsize')\n",
    "    data['lotsize'] = data['lotsize'].progress_apply(lambda x: lotsize(x))\n",
    "    # stories некоторые данные есть в propertyType\n",
    "    print('stories')\n",
    "    data = data.progress_apply(lambda row: stories(row), axis=1)\n",
    "    print('stories')\n",
    "    data['stories'] = data['stories'].progress_apply(lambda cell: stories2(cell))\n",
    "    data['stories'] = data['stories'].fillna(0)\n",
    "    # Heating\n",
    "    data['Heating'] = data['Heating'].fillna('no data')\n",
    "    data['Heating'] = data['Heating'].apply(lambda x: x.lower())\n",
    "    data['Heating'] = data['Heating'].apply(lambda x: x.replace(',', ''))\n",
    "    data['Heating'] = data['Heating'].apply(lambda x: heating(x))\n",
    "    data['Heating'] = data['Heating'].apply(lambda x: x.replace('no heating', 'none'))\n",
    "    data['Heating'] = data['Heating'].apply(lambda x: x.replace('has has', 'has'))\n",
    "    # Cooling\n",
    "    data['Cooling'] = data['Cooling'].fillna('no data')\n",
    "    data['Cooling'] = data['Cooling'].apply(lambda x: x.lower())\n",
    "    data['Cooling'] = data['Cooling'].apply(lambda x: x.replace(',', ''))\n",
    "    data['Cooling'] = data['Cooling'].apply(lambda x: cooling(x))\n",
    "    data['Cooling'] = data['Cooling'].apply(lambda x: x.replace('cenrtal ac', 'central'))\n",
    "    # Parking\n",
    "    data['Parking'] = data['Parking'].fillna('no data')\n",
    "    data['Parking'] = data['Parking'].apply(lambda x: x.lower())\n",
    "    data['Parking'] = data['Parking'].apply(lambda x: parking(x))\n",
    "    # propertyType после обработки stories\n",
    "    data['propertyType'] = data['propertyType'].apply(lambda x: x.replace('1 story', 'no data'))\n",
    "    data['propertyType'] = data['propertyType'].apply(lambda x: x.replace('2 story', 'no data'))\n",
    "    data['propertyType'] = data['propertyType'].apply(lambda x: x.replace('2 stories', 'no data'))\n",
    "    data['propertyType'] = data['propertyType'].apply(lambda x: x.replace('one story', 'no data'))\n",
    "    data['propertyType'] = data['propertyType'].apply(lambda x: x.replace('two story', 'no data'))\n",
    "    data['propertyType'] = data['propertyType'].apply(lambda x: x.replace('co op', 'coop'))\n",
    "    data['propertyType'] = data['propertyType'].apply(lambda x: x.replace('cooperative', 'coop'))\n",
    "    data['propertyType'] = data['propertyType'].apply(lambda x: x.replace(', no data', ''))\n",
    "    data['propertyType'] = data['propertyType'].apply(lambda x: x.replace('no data, ', ''))\n",
    "    data['propertyType'] = data['propertyType'].apply(lambda x: x.replace('florida', 'no data'))\n",
    "    data['propertyType'] = data['propertyType'].apply(lambda x: x.replace('other style', 'other'))\n",
    "    # избавляемся от пустых значений в целевой переменной\n",
    "    data = data[~data['Price/sqft'].isna()]\n",
    "    # избавляемся от дубликатов\n",
    "    key = ['city', 'sqft', 'zipcode', 'target', 'mls_Id', 'year_built']\n",
    "    data.drop_duplicates(subset=key, inplace=True)\n",
    "    return data"
   ]
  },
  {
   "cell_type": "code",
   "execution_count": 7,
   "metadata": {},
   "outputs": [],
   "source": [
    "#preproc_df = preproc_data(df)"
   ]
  },
  {
   "cell_type": "code",
   "execution_count": null,
   "metadata": {},
   "outputs": [],
   "source": []
  },
  {
   "cell_type": "markdown",
   "metadata": {},
   "source": [
    "# dataset houston"
   ]
  },
  {
   "cell_type": "code",
   "execution_count": 76,
   "metadata": {},
   "outputs": [
    {
     "data": {
      "text/plain": [
       "(24442, 18)"
      ]
     },
     "execution_count": 76,
     "metadata": {},
     "output_type": "execute_result"
    }
   ],
   "source": [
    "houston = dataset[dataset['city']=='houston']\n",
    "houston.shape"
   ]
  },
  {
   "cell_type": "code",
   "execution_count": 77,
   "metadata": {},
   "outputs": [
    {
     "name": "stderr",
     "output_type": "stream",
     "text": [
      "D:\\Anaconda\\lib\\site-packages\\tqdm\\std.py:648: FutureWarning: The Panel class is removed from pandas. Accessing it from the top-level namespace will also be removed in the next version\n",
      "  from pandas import Panel\n"
     ]
    },
    {
     "name": "stdout",
     "output_type": "stream",
     "text": [
      "homeFacts\n"
     ]
    },
    {
     "data": {
      "application/vnd.jupyter.widget-view+json": {
       "model_id": "91f270cf99be417594bc590ccdcde262",
       "version_major": 2,
       "version_minor": 0
      },
      "text/plain": [
       "HBox(children=(IntProgress(value=0, max=24442), HTML(value='')))"
      ]
     },
     "metadata": {},
     "output_type": "display_data"
    },
    {
     "name": "stdout",
     "output_type": "stream",
     "text": [
      "\n",
      "baths\n"
     ]
    },
    {
     "data": {
      "application/vnd.jupyter.widget-view+json": {
       "model_id": "0a7f8cc16d4c442cb6f17300df91cf52",
       "version_major": 2,
       "version_minor": 0
      },
      "text/plain": [
       "HBox(children=(IntProgress(value=0, max=24442), HTML(value='')))"
      ]
     },
     "metadata": {},
     "output_type": "display_data"
    },
    {
     "name": "stdout",
     "output_type": "stream",
     "text": [
      "\n",
      "target\n"
     ]
    },
    {
     "data": {
      "application/vnd.jupyter.widget-view+json": {
       "model_id": "107bc9995818432fb16a7ba5e2319f78",
       "version_major": 2,
       "version_minor": 0
      },
      "text/plain": [
       "HBox(children=(IntProgress(value=0, max=24442), HTML(value='')))"
      ]
     },
     "metadata": {},
     "output_type": "display_data"
    },
    {
     "name": "stdout",
     "output_type": "stream",
     "text": [
      "\n",
      "schools\n"
     ]
    },
    {
     "data": {
      "application/vnd.jupyter.widget-view+json": {
       "model_id": "0394e69bcb4d4c2dbee6fe1a62ba6d23",
       "version_major": 2,
       "version_minor": 0
      },
      "text/plain": [
       "HBox(children=(IntProgress(value=0, max=24442), HTML(value='')))"
      ]
     },
     "metadata": {},
     "output_type": "display_data"
    },
    {
     "name": "stdout",
     "output_type": "stream",
     "text": [
      "\n",
      "beds\n"
     ]
    },
    {
     "data": {
      "application/vnd.jupyter.widget-view+json": {
       "model_id": "e1993d0f53e448d691b6f115693b8ab0",
       "version_major": 2,
       "version_minor": 0
      },
      "text/plain": [
       "HBox(children=(IntProgress(value=0, max=24442), HTML(value='')))"
      ]
     },
     "metadata": {},
     "output_type": "display_data"
    },
    {
     "name": "stdout",
     "output_type": "stream",
     "text": [
      "\n",
      "lotsize\n"
     ]
    },
    {
     "data": {
      "application/vnd.jupyter.widget-view+json": {
       "model_id": "d9f94485c664463c848530e1f1abaea2",
       "version_major": 2,
       "version_minor": 0
      },
      "text/plain": [
       "HBox(children=(IntProgress(value=0, max=24442), HTML(value='')))"
      ]
     },
     "metadata": {},
     "output_type": "display_data"
    },
    {
     "name": "stdout",
     "output_type": "stream",
     "text": [
      "\n"
     ]
    },
    {
     "data": {
      "application/vnd.jupyter.widget-view+json": {
       "model_id": "1b883267146f4b96961ec4a41cbe9b57",
       "version_major": 2,
       "version_minor": 0
      },
      "text/plain": [
       "HBox(children=(IntProgress(value=0, max=24442), HTML(value='')))"
      ]
     },
     "metadata": {},
     "output_type": "display_data"
    },
    {
     "name": "stdout",
     "output_type": "stream",
     "text": [
      "\n",
      "stories\n"
     ]
    },
    {
     "data": {
      "application/vnd.jupyter.widget-view+json": {
       "model_id": "b73af5aa6c2547ae8c9e115d6a25c1e9",
       "version_major": 2,
       "version_minor": 0
      },
      "text/plain": [
       "HBox(children=(IntProgress(value=0, max=24442), HTML(value='')))"
      ]
     },
     "metadata": {},
     "output_type": "display_data"
    },
    {
     "name": "stdout",
     "output_type": "stream",
     "text": [
      "\n"
     ]
    }
   ],
   "source": [
    "preproc_houston = preproc_data(houston)"
   ]
  },
  {
   "cell_type": "code",
   "execution_count": 84,
   "metadata": {},
   "outputs": [
    {
     "data": {
      "text/plain": [
       "(14595, 31)"
      ]
     },
     "execution_count": 84,
     "metadata": {},
     "output_type": "execute_result"
    }
   ],
   "source": [
    "preproc_houston.shape"
   ]
  },
  {
   "cell_type": "code",
   "execution_count": 83,
   "metadata": {},
   "outputs": [],
   "source": [
    "preproc_houston.to_csv('D:\\\\SF\\\\Final\\\\houston.csv', index=False)"
   ]
  },
  {
   "cell_type": "code",
   "execution_count": 141,
   "metadata": {},
   "outputs": [
    {
     "data": {
      "text/plain": [
       "(14595, 31)"
      ]
     },
     "execution_count": 141,
     "metadata": {},
     "output_type": "execute_result"
    }
   ],
   "source": [
    "houston = pd.read_csv('D:\\\\SF\\\\Final\\\\houston.csv')\n",
    "houston.shape"
   ]
  },
  {
   "cell_type": "markdown",
   "metadata": {},
   "source": [
    "# Добавляем координаты почтовых отделений и центра городов. Считаем расстояние и азимут"
   ]
  },
  {
   "cell_type": "code",
   "execution_count": 4,
   "metadata": {},
   "outputs": [],
   "source": [
    "# добавляет координаты почтовых отделений\n",
    "def add_zip_coordinates(df_input, zipcode):\n",
    "    df_output = df_input.copy()\n",
    "    df_output = df_output.merge(zipcode[['postal_code', 'code1', 'latitude', 'longitude']], \n",
    "                                            how='inner',\n",
    "                                            left_on='zipcode',\n",
    "                                            right_on='postal_code')\n",
    "    df_output.drop(['postal_code', 'code1'], axis=1, inplace=True)\n",
    "    df_output.rename(columns={'latitude': 'zip_latitude', 'longitude': 'zip_longitude'}, inplace=True)\n",
    "    return df_output"
   ]
  },
  {
   "cell_type": "code",
   "execution_count": 5,
   "metadata": {},
   "outputs": [],
   "source": [
    "# добавляет координаты центра городов\n",
    "def add_city_coordinates(df_input, US_cities):\n",
    "    df_output = df_input.copy()\n",
    "    df_output['state'] = df_output['state'].apply(lambda x: x.lower())\n",
    "    US_cities['City'] = US_cities['City'].apply(lambda x: x.lower())\n",
    "    US_cities['Region'] = US_cities['Region'].apply(lambda x: x.lower())\n",
    "    df_output = df_output.merge(US_cities[['City', 'Region', 'Latitude', 'Longitude']], \n",
    "                                            how='inner',\n",
    "                                            left_on=['city', 'state'],\n",
    "                                            right_on=['City', 'Region'])\n",
    "    df_output.rename(columns={'Latitude': 'city_latitude', 'Longitude': 'city_longitude'}, inplace=True)\n",
    "    df_output.drop(['City', 'Region'], axis=1, inplace=True)\n",
    "    return df_output"
   ]
  },
  {
   "cell_type": "code",
   "execution_count": 8,
   "metadata": {},
   "outputs": [],
   "source": [
    "# получает координаты по адресу \n",
    "# используем  бесплатный сервис Nominatim\n",
    "# работает очень долго из-за ограничений бесплатного сервиса\n",
    "# иногда находит неверные координаты если не указан город\n",
    "# в другом случае не находит координат если указан город\n",
    "from geopy.geocoders import Nominatim\n",
    "\n",
    "def get_geo_info(row, timeout=1):\n",
    "    geo_locator = Nominatim()\n",
    "    error = 'Location error'\n",
    "    location = ''\n",
    "    location2 = ''\n",
    "    try:\n",
    "        location = geo_locator.geocode(row['street'] + ' ' + row['city'], timeout=timeout)\n",
    "    except Exception:\n",
    "        row['adress_latitude'] = error\n",
    "        row['adress_longitude'] = error\n",
    "    \n",
    "    if not location:\n",
    "        try:\n",
    "            location2 = geo_locator.geocode(row['street'], timeout=timeout)\n",
    "        except Exception:\n",
    "            row['adress_latitude'] = error\n",
    "            row['adress_longitude'] = error\n",
    "        if not location2:\n",
    "            row['adress_latitude'] = error\n",
    "            row['adress_longitude'] = error\n",
    "        else:\n",
    "            lat = location2.latitude\n",
    "            long = location2.longitude\n",
    "            row['adress_latitude'] = lat\n",
    "            row['adress_longitude'] = long\n",
    "    else:\n",
    "        lat = location.latitude\n",
    "        long = location.longitude\n",
    "        row['adress_latitude'] = lat\n",
    "        row['adress_longitude'] = long\n",
    "\n",
    "    return row"
   ]
  },
  {
   "cell_type": "code",
   "execution_count": 156,
   "metadata": {},
   "outputs": [],
   "source": [
    "# файл US.txt взят здесь http://download.geonames.org/export/zip/\n",
    "zipcode = pd.read_csv('D:\\\\SF\\\\Final\\\\US.txt', sep='\\t')"
   ]
  },
  {
   "cell_type": "code",
   "execution_count": 157,
   "metadata": {},
   "outputs": [
    {
     "data": {
      "text/plain": [
       "(14595, 33)"
      ]
     },
     "execution_count": 157,
     "metadata": {},
     "output_type": "execute_result"
    }
   ],
   "source": [
    "houston2 = add_zip_coordinates(houston, zipcode)\n",
    "houston2.shape"
   ]
  },
  {
   "cell_type": "code",
   "execution_count": 158,
   "metadata": {},
   "outputs": [
    {
     "name": "stderr",
     "output_type": "stream",
     "text": [
      "D:\\Anaconda\\lib\\site-packages\\IPython\\core\\interactiveshell.py:3058: DtypeWarning: Columns (3) have mixed types.Specify dtype option on import or set low_memory=False.\n",
      "  interactivity=interactivity, compiler=compiler, result=result)\n"
     ]
    }
   ],
   "source": [
    "# файл worldcitiespop.csv взят здесь https://www.kaggle.com/max-mind/world-cities-database\n",
    "cities = pd.read_csv('D:\\\\SF\\\\Final\\\\worldcitiespop.csv')\n",
    "US_cities = cities[(cities['Country']=='us') | (cities['Country']=='US')]"
   ]
  },
  {
   "cell_type": "code",
   "execution_count": 159,
   "metadata": {},
   "outputs": [
    {
     "name": "stderr",
     "output_type": "stream",
     "text": [
      "D:\\Anaconda\\lib\\site-packages\\ipykernel_launcher.py:5: SettingWithCopyWarning: \n",
      "A value is trying to be set on a copy of a slice from a DataFrame.\n",
      "Try using .loc[row_indexer,col_indexer] = value instead\n",
      "\n",
      "See the caveats in the documentation: https://pandas.pydata.org/pandas-docs/stable/user_guide/indexing.html#returning-a-view-versus-a-copy\n",
      "  \"\"\"\n",
      "D:\\Anaconda\\lib\\site-packages\\ipykernel_launcher.py:6: SettingWithCopyWarning: \n",
      "A value is trying to be set on a copy of a slice from a DataFrame.\n",
      "Try using .loc[row_indexer,col_indexer] = value instead\n",
      "\n",
      "See the caveats in the documentation: https://pandas.pydata.org/pandas-docs/stable/user_guide/indexing.html#returning-a-view-versus-a-copy\n",
      "  \n"
     ]
    },
    {
     "data": {
      "text/plain": [
       "(14595, 35)"
      ]
     },
     "execution_count": 159,
     "metadata": {},
     "output_type": "execute_result"
    }
   ],
   "source": [
    "houston2 = add_city_coordinates(houston2, US_cities)\n",
    "houston2.shape"
   ]
  },
  {
   "cell_type": "markdown",
   "metadata": {},
   "source": [
    "# Добавим колонки с количеством населения района"
   ]
  },
  {
   "cell_type": "code",
   "execution_count": null,
   "metadata": {},
   "outputs": [],
   "source": [
    "# загрузил датасета с населением\n",
    "# https://azure.microsoft.com/en-us/services/open-datasets/catalog/us-decennial-census-zip/#AzureNotebooks\n",
    "\n",
    "# This is a package in preview.\n",
    "#from azureml.opendatasets import UsPopulationZip\n",
    "#population = UsPopulationZip()\n",
    "#population_df = population.to_pandas_dataframe()\n",
    "\n",
    "# получаем данные только по мужскому и женскому населению района\n",
    "#zip_sex_pop = population_df.groupby(['zipCode', 'sex']).agg({'population':'sum'}).reset_index()\n",
    "#table = pd.pivot_table(zip_sex_pop, values='population', index=['zipCode'], columns=['sex']).reset_index()\n",
    "#table.to_csv('D:\\\\SF\\\\Final\\\\zip_sex_pop.csv', index=False)"
   ]
  },
  {
   "cell_type": "code",
   "execution_count": 185,
   "metadata": {},
   "outputs": [
    {
     "data": {
      "text/html": [
       "<div>\n",
       "<style scoped>\n",
       "    .dataframe tbody tr th:only-of-type {\n",
       "        vertical-align: middle;\n",
       "    }\n",
       "\n",
       "    .dataframe tbody tr th {\n",
       "        vertical-align: top;\n",
       "    }\n",
       "\n",
       "    .dataframe thead th {\n",
       "        text-align: right;\n",
       "    }\n",
       "</style>\n",
       "<table border=\"1\" class=\"dataframe\">\n",
       "  <thead>\n",
       "    <tr style=\"text-align: right;\">\n",
       "      <th></th>\n",
       "      <th>zipCode</th>\n",
       "      <th>Female</th>\n",
       "      <th>Male</th>\n",
       "    </tr>\n",
       "  </thead>\n",
       "  <tbody>\n",
       "    <tr>\n",
       "      <th>0</th>\n",
       "      <td>601</td>\n",
       "      <td>37968</td>\n",
       "      <td>36312</td>\n",
       "    </tr>\n",
       "    <tr>\n",
       "      <th>1</th>\n",
       "      <td>602</td>\n",
       "      <td>84496</td>\n",
       "      <td>81584</td>\n",
       "    </tr>\n",
       "    <tr>\n",
       "      <th>2</th>\n",
       "      <td>603</td>\n",
       "      <td>112368</td>\n",
       "      <td>106388</td>\n",
       "    </tr>\n",
       "    <tr>\n",
       "      <th>3</th>\n",
       "      <td>606</td>\n",
       "      <td>13388</td>\n",
       "      <td>13072</td>\n",
       "    </tr>\n",
       "    <tr>\n",
       "      <th>4</th>\n",
       "      <td>610</td>\n",
       "      <td>59648</td>\n",
       "      <td>56416</td>\n",
       "    </tr>\n",
       "  </tbody>\n",
       "</table>\n",
       "</div>"
      ],
      "text/plain": [
       "   zipCode  Female    Male\n",
       "0      601   37968   36312\n",
       "1      602   84496   81584\n",
       "2      603  112368  106388\n",
       "3      606   13388   13072\n",
       "4      610   59648   56416"
      ]
     },
     "execution_count": 185,
     "metadata": {},
     "output_type": "execute_result"
    }
   ],
   "source": [
    "zip_sex_pop = pd.read_csv('D:\\\\SF\\\\Final\\\\zip_sex_pop.csv')\n",
    "zip_sex_pop.head()"
   ]
  },
  {
   "cell_type": "code",
   "execution_count": 190,
   "metadata": {},
   "outputs": [
    {
     "name": "stdout",
     "output_type": "stream",
     "text": [
      "(14593, 39)\n"
     ]
    }
   ],
   "source": [
    "houston3 = houston2.merge(zip_sex_pop, how='inner', left_on='zipcode', right_on='zipCode')\n",
    "houston3.drop('zipCode', axis=1, inplace=True)\n",
    "print(houston3.shape)"
   ]
  },
  {
   "cell_type": "code",
   "execution_count": 191,
   "metadata": {},
   "outputs": [],
   "source": [
    "houston3.to_csv('D:\\\\SF\\\\Final\\\\houston_coord_pop.csv', index=False)"
   ]
  },
  {
   "cell_type": "markdown",
   "metadata": {},
   "source": [
    "# Получаем координаты по адресу"
   ]
  },
  {
   "cell_type": "code",
   "execution_count": null,
   "metadata": {},
   "outputs": [],
   "source": [
    "# работает 3 часа\n",
    "tqdm.pandas(tqdm_notebook)\n",
    "houston = dataset.progress_apply(lambda row: get_geo_info(row), axis=1)"
   ]
  },
  {
   "cell_type": "code",
   "execution_count": null,
   "metadata": {},
   "outputs": [],
   "source": [
    "houston.to_csv('D:\\\\SF\\\\Final\\\\houston_coord_pop_adrcoord.csv', index=False)"
   ]
  }
 ],
 "metadata": {
  "kernelspec": {
   "display_name": "Python 3",
   "language": "python",
   "name": "python3"
  },
  "language_info": {
   "codemirror_mode": {
    "name": "ipython",
    "version": 3
   },
   "file_extension": ".py",
   "mimetype": "text/x-python",
   "name": "python",
   "nbconvert_exporter": "python",
   "pygments_lexer": "ipython3",
   "version": "3.7.3"
  }
 },
 "nbformat": 4,
 "nbformat_minor": 2
}
